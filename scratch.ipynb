{
 "cells": [
  {
   "cell_type": "code",
   "execution_count": null,
   "metadata": {},
   "outputs": [],
   "source": [
    "from src.document import Document\n",
    "from pathlib import Path\n",
    "import random\n",
    "\n",
    "data_dir = Path(\"data/processed\")\n",
    "files = list(data_dir.glob(\"*.json\"))\n",
    "random_file = random.choice(files)\n",
    "document = Document.load(random_file)"
   ]
  },
  {
   "cell_type": "code",
   "execution_count": null,
   "metadata": {},
   "outputs": [],
   "source": [
    "for sentence in document.sentences[:5]:\n",
    "    print(sentence)"
   ]
  },
  {
   "cell_type": "code",
   "execution_count": null,
   "metadata": {},
   "outputs": [],
   "source": []
  },
  {
   "cell_type": "code",
   "execution_count": null,
   "metadata": {},
   "outputs": [],
   "source": []
  },
  {
   "cell_type": "markdown",
   "metadata": {},
   "source": [
    "query the index for the most relevant documents."
   ]
  },
  {
   "cell_type": "code",
   "execution_count": null,
   "metadata": {},
   "outputs": [],
   "source": [
    "from elasticsearch import Elasticsearch\n",
    "\n",
    "es = Elasticsearch()"
   ]
  },
  {
   "cell_type": "code",
   "execution_count": null,
   "metadata": {},
   "outputs": [],
   "source": [
    "index_name = \"documents\"\n",
    "search_terms = \"evil\"\n",
    "res = es.search(\n",
    "    index=index_name,\n",
    "    query={\n",
    "        \"multi_match\": {\n",
    "            \"query\": search_terms,\n",
    "            \"fields\": [\"document.title\", \"page.text\"],\n",
    "        }\n",
    "    },\n",
    "    size=1000,\n",
    "    collapse={\"field\": \"document.id\", \"inner_hits\": {\"name\": \"hits\", \"size\": 5}},\n",
    ")\n",
    "res"
   ]
  },
  {
   "cell_type": "markdown",
   "metadata": {},
   "source": [
    "use concepts to build a simple classifier of concepts in documents"
   ]
  },
  {
   "cell_type": "code",
   "execution_count": 4,
   "metadata": {},
   "outputs": [],
   "source": [
    "from src.classifiers import RegexClassifier\n",
    "from src.document import Document\n",
    "from src.concept import Concept\n",
    "import json\n",
    "from pathlib import Path\n",
    "import random"
   ]
  },
  {
   "cell_type": "code",
   "execution_count": 5,
   "metadata": {},
   "outputs": [],
   "source": [
    "data_dir = Path(\"data/processed\")\n",
    "files = list(data_dir.glob(\"*.json\"))\n",
    "random_file = random.choice(files)\n",
    "document = Document.load(random_file)"
   ]
  },
  {
   "cell_type": "code",
   "execution_count": 6,
   "metadata": {},
   "outputs": [
    {
     "data": {
      "text/plain": [
       "[Concept(ageism)]"
      ]
     },
     "execution_count": 6,
     "metadata": {},
     "output_type": "execute_result"
    }
   ],
   "source": [
    "with open(\"data/concepts.json\") as f:\n",
    "    concepts = json.load(f)\n",
    "\n",
    "concepts = [Concept.from_dict(concept) for concept in concepts]\n",
    "concepts"
   ]
  },
  {
   "cell_type": "code",
   "execution_count": 7,
   "metadata": {},
   "outputs": [],
   "source": [
    "classifiers = [RegexClassifier(concept) for concept in concepts]\n",
    "classifier = classifiers[0]"
   ]
  },
  {
   "cell_type": "code",
   "execution_count": 13,
   "metadata": {},
   "outputs": [],
   "source": [
    "Document.concept_spans = classifier.predict(document.text)"
   ]
  },
  {
   "cell_type": "code",
   "execution_count": 14,
   "metadata": {},
   "outputs": [],
   "source": [
    "from rich.progress import track\n",
    "\n",
    "data_dir = Path(\"data/processed\")\n",
    "files = list(data_dir.glob(\"*.json\"))\n",
    "random_file = random.choice(files)\n",
    "document = Document.load(random_file)"
   ]
  },
  {
   "cell_type": "code",
   "execution_count": null,
   "metadata": {},
   "outputs": [],
   "source": []
  }
 ],
 "metadata": {
  "kernelspec": {
   "display_name": ".venv",
   "language": "python",
   "name": "python3"
  },
  "language_info": {
   "codemirror_mode": {
    "name": "ipython",
    "version": 3
   },
   "file_extension": ".py",
   "mimetype": "text/x-python",
   "name": "python",
   "nbconvert_exporter": "python",
   "pygments_lexer": "ipython3",
   "version": "3.10.13"
  }
 },
 "nbformat": 4,
 "nbformat_minor": 2
}
