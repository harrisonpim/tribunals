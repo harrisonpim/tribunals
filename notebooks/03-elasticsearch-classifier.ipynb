{
 "cells": [
  {
   "cell_type": "markdown",
   "metadata": {},
   "source": [
    "working out what the structure of the query to elasticsearch should be, and how the results need to be processed to consistently extract spans for concepts"
   ]
  },
  {
   "cell_type": "code",
   "execution_count": null,
   "metadata": {},
   "outputs": [],
   "source": [
    "import json\n",
    "from pathlib import Path\n",
    "\n",
    "from elasticsearch import Elasticsearch\n",
    "\n",
    "from src.concept import Concept\n",
    "from src.document import Document, Span"
   ]
  },
  {
   "cell_type": "code",
   "execution_count": null,
   "metadata": {},
   "outputs": [],
   "source": [
    "data_dir = Path(\"../data\")\n",
    "raw_text_dir = data_dir / \"raw\" / \"text\"\n",
    "\n",
    "document_files = list(raw_text_dir.glob(\"*.json\"))\n",
    "documents = [Document.load_raw(file, parse=False) for file in document_files]\n",
    "\n",
    "with open(data_dir / \"raw\" / \"concepts.json\") as f:\n",
    "    concepts_data = json.load(f)\n",
    "\n",
    "concepts = [Concept.from_dict(concept) for concept in concepts_data]"
   ]
  },
  {
   "cell_type": "code",
   "execution_count": null,
   "metadata": {},
   "outputs": [],
   "source": [
    "document = documents[0]\n",
    "concept = concepts[0]\n",
    "es_client = Elasticsearch()\n",
    "index_name = \"documents\""
   ]
  },
  {
   "cell_type": "code",
   "execution_count": null,
   "metadata": {},
   "outputs": [],
   "source": [
    "search_terms = \"Employment Tribunal\"\n",
    "es_client.search(\n",
    "    index=index_name,\n",
    "    query={\n",
    "        \"bool\": {\n",
    "            \"must\": [\n",
    "                {\"ids\": {\"values\": [document.id]}},\n",
    "                {\"match\": {\"text\": search_terms}},\n",
    "            ]\n",
    "        }\n",
    "    },\n",
    "    highlight={\"fields\": {\"text\": {}}},\n",
    "    size=1,\n",
    ")"
   ]
  },
  {
   "cell_type": "code",
   "execution_count": null,
   "metadata": {},
   "outputs": [],
   "source": [
    "spans = []\n",
    "search_terms = \"Employment Tribunal\"\n",
    "results = es_client.search(\n",
    "    index=index_name,\n",
    "    query={\n",
    "        \"bool\": {\n",
    "            \"must\": [\n",
    "                {\"ids\": {\"values\": [document.id]}},\n",
    "                {\"match_phrase\": {\"text\": search_terms}},\n",
    "            ]\n",
    "        }\n",
    "    },\n",
    "    highlight={\n",
    "        \"fields\": {\"text\": {}},\n",
    "        \"number_of_fragments\": 0,\n",
    "    },\n",
    "    size=1,\n",
    ")\n",
    "\n",
    "for hit in results[\"hits\"][\"hits\"]:  # account for zero hits\n",
    "    text = hit.get(\"highlight\", {}).get(\"text\", [\"\"])[0]\n",
    "    while \"<em>\" in text and \"</em>\" in text:\n",
    "        start_index = text.find(\"<em>\")\n",
    "        text = text.replace(\"<em>\", \"\", 1)\n",
    "\n",
    "        end_index = text.find(\"</em>\")\n",
    "        text = text.replace(\"</em>\", \"\", 1)\n",
    "\n",
    "        spans.append(\n",
    "            Span(\n",
    "                start_index=start_index,\n",
    "                end_index=end_index,\n",
    "                identifier=concept.id,\n",
    "            )\n",
    "        )"
   ]
  },
  {
   "cell_type": "code",
   "execution_count": null,
   "metadata": {},
   "outputs": [],
   "source": [
    "concept_id_to_label = {concept.id: concept.preferred_label for concept in concepts}\n",
    "\n",
    "for span in spans:\n",
    "    print(\n",
    "        document.text[span.start_index : span.end_index],\n",
    "        concept_id_to_label[span.identifier],\n",
    "    )"
   ]
  },
  {
   "cell_type": "code",
   "execution_count": null,
   "metadata": {},
   "outputs": [],
   "source": []
  }
 ],
 "metadata": {
  "kernelspec": {
   "display_name": ".venv",
   "language": "python",
   "name": "python3"
  },
  "language_info": {
   "codemirror_mode": {
    "name": "ipython",
    "version": 3
   },
   "file_extension": ".py",
   "mimetype": "text/x-python",
   "name": "python",
   "nbconvert_exporter": "python",
   "pygments_lexer": "ipython3",
   "version": "3.10.13"
  }
 },
 "nbformat": 4,
 "nbformat_minor": 2
}
