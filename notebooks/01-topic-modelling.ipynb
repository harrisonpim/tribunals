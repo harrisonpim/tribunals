{
 "cells": [
  {
   "cell_type": "code",
   "execution_count": null,
   "metadata": {},
   "outputs": [],
   "source": [
    "import random\n",
    "from pathlib import Path\n",
    "\n",
    "import torch\n",
    "from tqdm.auto import tqdm\n",
    "from transformers import AutoModel, AutoTokenizer\n",
    "\n",
    "from src.document import Document"
   ]
  },
  {
   "cell_type": "code",
   "execution_count": null,
   "metadata": {},
   "outputs": [],
   "source": [
    "data_dir = Path(\"../data/raw/text\")\n",
    "files = list(data_dir.glob(\"*.json\"))\n",
    "documents = [Document.load_raw(file) for file in tqdm(files)]"
   ]
  },
  {
   "cell_type": "markdown",
   "metadata": {},
   "source": [
    "Load the tokenizer and model\n"
   ]
  },
  {
   "cell_type": "code",
   "execution_count": null,
   "metadata": {},
   "outputs": [],
   "source": [
    "tokenizer = AutoTokenizer.from_pretrained(\"sentence-transformers/all-mpnet-base-v2\")\n",
    "model = AutoModel.from_pretrained(\"sentence-transformers/all-mpnet-base-v2\")\n",
    "\n",
    "model.eval()"
   ]
  },
  {
   "cell_type": "code",
   "execution_count": null,
   "metadata": {},
   "outputs": [],
   "source": [
    "sentences = [sentence for document in documents for sentence in document.sentences]\n",
    "\n",
    "# filter for sentences with at least 5 tokens and less than 512 tokens\n",
    "sentences = [\n",
    "    sentence\n",
    "    for sentence in tqdm(sentences)\n",
    "    if 512 > len(tokenizer.tokenize(sentence)) >= 5\n",
    "]\n",
    "\n",
    "# sample 10,000 random sentences\n",
    "sentences = random.sample(sentences, 10_000)"
   ]
  },
  {
   "cell_type": "code",
   "execution_count": null,
   "metadata": {},
   "outputs": [],
   "source": [
    "embeddings = []\n",
    "for sentence in tqdm(sentences):\n",
    "    tokens = tokenizer.encode(sentence, add_special_tokens=True)\n",
    "    input_ids = torch.tensor([tokens])\n",
    "    sentence_embedding = model(input_ids)[0].squeeze(0).mean(dim=0)\n",
    "\n",
    "    embeddings.append(sentence_embedding)"
   ]
  },
  {
   "cell_type": "markdown",
   "metadata": {},
   "source": [
    "reduce embedding dimensionality using UMAP\n"
   ]
  },
  {
   "cell_type": "code",
   "execution_count": null,
   "metadata": {},
   "outputs": [],
   "source": [
    "from umap import UMAP"
   ]
  },
  {
   "cell_type": "code",
   "execution_count": null,
   "metadata": {},
   "outputs": [],
   "source": [
    "embeddings = torch.stack(embeddings)\n",
    "\n",
    "umap = UMAP(n_components=2)\n",
    "embeddings_2d = umap.fit_transform(embeddings)"
   ]
  },
  {
   "cell_type": "markdown",
   "metadata": {},
   "source": [
    "use plotly to visualize the embeddings interactively\n"
   ]
  },
  {
   "cell_type": "code",
   "execution_count": null,
   "metadata": {},
   "outputs": [],
   "source": [
    "import pandas as pd\n",
    "import plotly.express as px"
   ]
  },
  {
   "cell_type": "code",
   "execution_count": null,
   "metadata": {},
   "outputs": [],
   "source": [
    "df = pd.DataFrame(\n",
    "    {\n",
    "        \"x\": embeddings_2d[:, 0],\n",
    "        \"y\": embeddings_2d[:, 1],\n",
    "        \"sentence\": sentences,\n",
    "    }\n",
    ")\n",
    "fig = px.scatter(\n",
    "    df, x=\"x\", y=\"y\", hover_data={\"x\": False, \"y\": False, \"sentence\": True}\n",
    ")\n",
    "fig.show()"
   ]
  }
 ],
 "metadata": {
  "kernelspec": {
   "display_name": ".venv",
   "language": "python",
   "name": "python3"
  },
  "language_info": {
   "codemirror_mode": {
    "name": "ipython",
    "version": 3
   },
   "file_extension": ".py",
   "mimetype": "text/x-python",
   "name": "python",
   "nbconvert_exporter": "python",
   "pygments_lexer": "ipython3",
   "version": "3.10.13"
  }
 },
 "nbformat": 4,
 "nbformat_minor": 2
}
