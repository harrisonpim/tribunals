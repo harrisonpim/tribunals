{
 "cells": [
  {
   "cell_type": "code",
   "execution_count": null,
   "metadata": {},
   "outputs": [],
   "source": [
    "from pathlib import Path\n",
    "\n",
    "import torch\n",
    "from tqdm.auto import tqdm\n",
    "from transformers import AutoModel, AutoTokenizer\n",
    "from umap import UMAP\n",
    "\n",
    "from src.document import Document"
   ]
  },
  {
   "cell_type": "code",
   "execution_count": null,
   "metadata": {},
   "outputs": [],
   "source": [
    "data_dir = Path(\"../data/processed\")\n",
    "\n",
    "n_docs = 5\n",
    "files = list(data_dir.glob(\"*.json\"))[:n_docs]\n",
    "documents = [Document.load(file) for file in files]"
   ]
  },
  {
   "cell_type": "code",
   "execution_count": null,
   "metadata": {},
   "outputs": [],
   "source": [
    "# Load the tokenizer and model\n",
    "tokenizer = AutoTokenizer.from_pretrained(\"sentence-transformers/all-mpnet-base-v2\")\n",
    "model = AutoModel.from_pretrained(\"sentence-transformers/all-mpnet-base-v2\")"
   ]
  },
  {
   "cell_type": "code",
   "execution_count": null,
   "metadata": {},
   "outputs": [],
   "source": [
    "# Embed every sentence in every document\n",
    "embeddings = []\n",
    "all_sentences = [sentence for document in documents for sentence in document.sentences]\n",
    "for sentence in tqdm(all_sentences):\n",
    "    # Tokenize the sentence\n",
    "    tokens = tokenizer.encode(sentence, add_special_tokens=True)\n",
    "\n",
    "    # Convert tokens to tensor\n",
    "    input_ids = torch.tensor([tokens])\n",
    "\n",
    "    # Get the sentence embeddings\n",
    "    with torch.no_grad():\n",
    "        sentence_embedding = model(input_ids)[0].squeeze(0).mean(dim=0)\n",
    "\n",
    "    # Append the sentence embedding to the list\n",
    "    embeddings.append(sentence_embedding)"
   ]
  },
  {
   "cell_type": "code",
   "execution_count": null,
   "metadata": {},
   "outputs": [],
   "source": [
    "len(embeddings)"
   ]
  },
  {
   "cell_type": "code",
   "execution_count": null,
   "metadata": {},
   "outputs": [],
   "source": [
    "# Convert the embeddings to a tensor\n",
    "embeddings = torch.stack(embeddings)\n",
    "\n",
    "# Reduce the dimensionality of the embeddings\n",
    "umap = UMAP(n_components=2)\n",
    "umap_embeddings = umap.fit_transform(embeddings)\n",
    "\n",
    "x, y = umap_embeddings[:, 0], umap_embeddings[:, 1]"
   ]
  },
  {
   "cell_type": "code",
   "execution_count": null,
   "metadata": {},
   "outputs": [],
   "source": [
    "import pandas as pd\n",
    "import plotly.express as px\n",
    "\n",
    "df = pd.DataFrame({\"x\": x, \"y\": y, \"sentence\": all_sentences[: len(x)]})\n",
    "fig = px.scatter(\n",
    "    df, x=\"x\", y=\"y\", hover_data={\"x\": False, \"y\": False, \"sentence\": True}\n",
    ")\n",
    "fig.show()"
   ]
  }
 ],
 "metadata": {
  "kernelspec": {
   "display_name": ".venv",
   "language": "python",
   "name": "python3"
  },
  "language_info": {
   "codemirror_mode": {
    "name": "ipython",
    "version": 3
   },
   "file_extension": ".py",
   "mimetype": "text/x-python",
   "name": "python",
   "nbconvert_exporter": "python",
   "pygments_lexer": "ipython3",
   "version": "3.10.13"
  }
 },
 "nbformat": 4,
 "nbformat_minor": 2
}
