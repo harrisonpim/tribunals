{
 "cells": [
  {
   "cell_type": "markdown",
   "metadata": {},
   "source": [
    "thinking about how to sample data for manual labelling in argilla. we want to present passages which are likely to contain instances of each concept. Makes sense to use an existing classifier to identify these passages, which can then be manually labelled as positive or negative examples. From there, we can train more sophisticated models and lean on active learning to reduce the amount of manual labelling required."
   ]
  },
  {
   "cell_type": "code",
   "execution_count": null,
   "metadata": {},
   "outputs": [],
   "source": [
    "import json\n",
    "from pathlib import Path\n",
    "\n",
    "from rich.progress import track\n",
    "\n",
    "from src.concept import Concept\n",
    "from src.document import Document"
   ]
  },
  {
   "cell_type": "markdown",
   "metadata": {},
   "source": [
    "load up all of our documents and concepts"
   ]
  },
  {
   "cell_type": "code",
   "execution_count": null,
   "metadata": {},
   "outputs": [],
   "source": [
    "data_dir = Path(\"../data\")"
   ]
  },
  {
   "cell_type": "code",
   "execution_count": null,
   "metadata": {},
   "outputs": [],
   "source": [
    "with open(data_dir / \"raw\" / \"concepts.json\") as f:\n",
    "    concepts_data = json.load(f)\n",
    "concepts = [Concept.from_dict(concept) for concept in track(concepts_data)]"
   ]
  },
  {
   "cell_type": "code",
   "execution_count": null,
   "metadata": {},
   "outputs": [],
   "source": [
    "documents_dir = data_dir / \"processed\" / \"documents\"\n",
    "file_paths = list(documents_dir.glob(\"*.json\"))\n",
    "documents = [Document.load(file) for file in track(file_paths)]"
   ]
  },
  {
   "cell_type": "code",
   "execution_count": null,
   "metadata": {},
   "outputs": [],
   "source": [
    "document = documents[1]\n",
    "concept_id = \"b8aevvwa\"\n",
    "\n",
    "document.concept_spans"
   ]
  },
  {
   "cell_type": "markdown",
   "metadata": {},
   "source": [
    "We can exploit the fact that the concept spans and sentence spans are sorted by start index. We start by iteraring through the sentence spans while holding the first concept span in the list as the one we're looking for. If the concept span is within the bounds of the sentence span, we can add the sentence to the list of sentences thatcontain the concept. We can then move on to the next concept span and repeat the process. This way, we only have to iterate through the sentence spans once."
   ]
  },
  {
   "cell_type": "code",
   "execution_count": null,
   "metadata": {},
   "outputs": [],
   "source": [
    "concept_passages = {concept.id: [] for concept in concepts}\n",
    "\n",
    "for document in track(documents):\n",
    "    if not document.concept_spans:\n",
    "        continue\n",
    "    # set up an iterator for the concept spans, so that we can track the current concept\n",
    "    concept_span_iterable = iter(document.concept_spans)\n",
    "    concept_span = next(concept_span_iterable)\n",
    "    for sentence_span in document.sentence_spans:\n",
    "        # if the concept is within the bounds of the sentence\n",
    "        if (\n",
    "            sentence_span.start_index <= concept_span.start_index\n",
    "            and sentence_span.end_index >= concept_span.end_index\n",
    "        ):\n",
    "            sentence = document.text[\n",
    "                sentence_span.start_index : sentence_span.end_index\n",
    "            ]\n",
    "            concept_passages[concept_span.identifier].append(sentence)\n",
    "            try:\n",
    "                concept_span = next(concept_span_iterable)\n",
    "            except StopIteration:\n",
    "                break"
   ]
  },
  {
   "cell_type": "code",
   "execution_count": null,
   "metadata": {},
   "outputs": [],
   "source": [
    "for key, value in concept_passages.items():\n",
    "    print(key, len(value))"
   ]
  },
  {
   "cell_type": "code",
   "execution_count": null,
   "metadata": {},
   "outputs": [],
   "source": []
  }
 ],
 "metadata": {
  "kernelspec": {
   "display_name": ".venv",
   "language": "python",
   "name": "python3"
  },
  "language_info": {
   "codemirror_mode": {
    "name": "ipython",
    "version": 3
   },
   "file_extension": ".py",
   "mimetype": "text/x-python",
   "name": "python",
   "nbconvert_exporter": "python",
   "pygments_lexer": "ipython3",
   "version": "3.10.13"
  }
 },
 "nbformat": 4,
 "nbformat_minor": 2
}
